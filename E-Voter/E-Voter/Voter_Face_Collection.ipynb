{
 "cells": [
  {
   "cell_type": "code",
   "execution_count": 7,
   "id": "d93ca96e",
   "metadata": {},
   "outputs": [],
   "source": [
    "import cv2 as cv\n",
    "import os"
   ]
  },
  {
   "cell_type": "code",
   "execution_count": 8,
   "id": "da8554bc",
   "metadata": {},
   "outputs": [],
   "source": [
    "path = 'Voter_Face_Collection'\n",
    "isPathExist = os.path.exists(path)\n",
    "\n",
    "def pathExist(path):\n",
    "    result = False\n",
    "    if not isPathExist:\n",
    "        os.makedirs(path)\n",
    "        result = True\n",
    "    return result\n",
    "\n",
    "def voterFolder(path, userid):\n",
    "    path = os.path.join(path,userid)\n",
    "    os.mkdir(path)\n",
    "    \n",
    "    return path+'/'"
   ]
  },
  {
   "cell_type": "code",
   "execution_count": 9,
   "id": "d798a4b3",
   "metadata": {},
   "outputs": [],
   "source": [
    "pathExist(path)\n",
    "voterPath = 'Voter_Face_Collection/'"
   ]
  },
  {
   "cell_type": "code",
   "execution_count": 14,
   "id": "7a1ed8fa",
   "metadata": {},
   "outputs": [
    {
     "name": "stdout",
     "output_type": "stream",
     "text": [
      "Collecting keyboard\n",
      "  Downloading keyboard-0.13.5-py3-none-any.whl (58 kB)\n",
      "     -------------------------------------- 58.1/58.1 kB 509.1 kB/s eta 0:00:00\n",
      "Installing collected packages: keyboard\n",
      "Successfully installed keyboard-0.13.5\n"
     ]
    }
   ],
   "source": [
    "!pip install keyboard"
   ]
  },
  {
   "cell_type": "code",
   "execution_count": 17,
   "id": "228e018f",
   "metadata": {},
   "outputs": [
    {
     "name": "stdout",
     "output_type": "stream",
     "text": [
      "Kindly enter the voter Id?  VI0088\n",
      "Voter Id is :uniqueVoterId \n",
      "Wait...Image are collecting..........\n",
      "Wait...Image are collecting..........\n",
      "Wait...Image are collecting..........\n",
      "Wait...Image are collecting..........\n",
      "Wait...Image are collecting..........\n",
      "Wait...Image are collecting..........\n",
      "Wait...Image are collecting..........\n",
      "Wait...Image are collecting..........\n",
      "Wait...Image are collecting..........\n",
      "Wait...Image are collecting..........\n",
      "Face Captured Completed\n"
     ]
    }
   ],
   "source": [
    "import keyboard\n",
    "uniqueVoterId =  input('Kindly enter the voter Id?  ')\n",
    "print('Voter Id is :uniqueVoterId ')\n",
    "voterFacePath = voterFolder(voterPath,uniqueVoterId)\n",
    "\n",
    "live = cv.VideoCapture(0)\n",
    "frameCount = 0\n",
    "startinfo=False\n",
    "while(True):\n",
    "    ret,frames = live.read()\n",
    "    \n",
    "    cv.imshow('Live Frames', frames)\n",
    "    if(keyboard.is_pressed('s') or startinfo==True):\n",
    "        frameCount +=1\n",
    "        startinfo=True\n",
    "        imageNo = str(frameCount)+'.png'\n",
    "\n",
    "        cv.imwrite(os.path.join(voterFacePath ,imageNo), frames)\n",
    "        print('Wait...Image are collecting..........')\n",
    "    if cv.waitKey(1) & 0xFF == ord('q') or frameCount>9:\n",
    "            print('Face Captured Completed')\n",
    "            break\n",
    "    \n",
    "\n",
    "live.release()\n",
    "cv.destroyAllWindows()"
   ]
  },
  {
   "cell_type": "code",
   "execution_count": null,
   "id": "50389c75",
   "metadata": {},
   "outputs": [],
   "source": []
  }
 ],
 "metadata": {
  "kernelspec": {
   "display_name": "Python 3 (ipykernel)",
   "language": "python",
   "name": "python3"
  },
  "language_info": {
   "codemirror_mode": {
    "name": "ipython",
    "version": 3
   },
   "file_extension": ".py",
   "mimetype": "text/x-python",
   "name": "python",
   "nbconvert_exporter": "python",
   "pygments_lexer": "ipython3",
   "version": "3.9.13"
  }
 },
 "nbformat": 4,
 "nbformat_minor": 5
}
