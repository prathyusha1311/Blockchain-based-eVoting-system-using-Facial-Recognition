{
 "cells": [
  {
   "cell_type": "code",
   "execution_count": 9,
   "id": "a2c80888",
   "metadata": {},
   "outputs": [],
   "source": [
    "import face_recognition\n",
    "import os"
   ]
  },
  {
   "cell_type": "code",
   "execution_count": 10,
   "id": "18727d5c",
   "metadata": {},
   "outputs": [
    {
     "name": "stdout",
     "output_type": "stream",
     "text": [
      "VI001\n",
      "VI003\n",
      "no face detected\n",
      "no face detected\n",
      "no face detected\n",
      "no face detected\n",
      "VI004\n",
      "VI0088\n"
     ]
    }
   ],
   "source": [
    "features = []\n",
    "target = []\n",
    "\n",
    "folderName = 'Voter_Face_Collection/'\n",
    "entries = os.listdir('Voter_Face_Collection/')\n",
    "for i,uniqueId in enumerate(entries):\n",
    "    voterId = str(uniqueId)\n",
    "    print(voterId)\n",
    "    voterPath = os.path.join(folderName ,voterId)\n",
    "    vPath = os.listdir(voterPath)\n",
    "    \n",
    "    for img in vPath:\n",
    "        imgPath = os.path.join(folderName, voterId ,img)\n",
    "        voterImages = face_recognition.load_image_file(imgPath)\n",
    "        try:\n",
    "            image_encoding = face_recognition.face_encodings(voterImages)[0]\n",
    "            if(len(image_encoding)>0):\n",
    "                features.append(image_encoding)\n",
    "                target.append(voterId)\n",
    "        except:\n",
    "            print(\"no face detected\")\n",
    "        \n",
    "    \n",
    "    \n",
    "    "
   ]
  },
  {
   "cell_type": "code",
   "execution_count": 11,
   "id": "219ca328",
   "metadata": {},
   "outputs": [],
   "source": [
    "from sklearn.model_selection import train_test_split\n",
    "x_train, x_test, y_train, y_test = train_test_split(features, target)"
   ]
  },
  {
   "cell_type": "code",
   "execution_count": 12,
   "id": "38fded2c",
   "metadata": {},
   "outputs": [
    {
     "data": {
      "text/plain": [
       "(['VI001',\n",
       "  'VI001',\n",
       "  'VI0088',\n",
       "  'VI004',\n",
       "  'VI001',\n",
       "  'VI003',\n",
       "  'VI001',\n",
       "  'VI001',\n",
       "  'VI0088',\n",
       "  'VI004',\n",
       "  'VI003',\n",
       "  'VI004',\n",
       "  'VI001',\n",
       "  'VI0088',\n",
       "  'VI004',\n",
       "  'VI0088',\n",
       "  'VI0088',\n",
       "  'VI0088',\n",
       "  'VI001',\n",
       "  'VI003',\n",
       "  'VI004',\n",
       "  'VI003',\n",
       "  'VI004',\n",
       "  'VI004',\n",
       "  'VI003',\n",
       "  'VI004',\n",
       "  'VI004'],\n",
       " ['VI001',\n",
       "  'VI003',\n",
       "  'VI001',\n",
       "  'VI004',\n",
       "  'VI0088',\n",
       "  'VI0088',\n",
       "  'VI001',\n",
       "  'VI0088',\n",
       "  'VI0088'])"
      ]
     },
     "execution_count": 12,
     "metadata": {},
     "output_type": "execute_result"
    }
   ],
   "source": [
    "y_train, y_test"
   ]
  },
  {
   "cell_type": "code",
   "execution_count": 13,
   "id": "c08a8831",
   "metadata": {},
   "outputs": [
    {
     "data": {
      "text/plain": [
       "['VI001',\n",
       " 'VI001',\n",
       " 'VI001',\n",
       " 'VI001',\n",
       " 'VI001',\n",
       " 'VI001',\n",
       " 'VI001',\n",
       " 'VI001',\n",
       " 'VI001',\n",
       " 'VI001',\n",
       " 'VI003',\n",
       " 'VI003',\n",
       " 'VI003',\n",
       " 'VI003',\n",
       " 'VI003',\n",
       " 'VI003',\n",
       " 'VI004',\n",
       " 'VI004',\n",
       " 'VI004',\n",
       " 'VI004',\n",
       " 'VI004',\n",
       " 'VI004',\n",
       " 'VI004',\n",
       " 'VI004',\n",
       " 'VI004',\n",
       " 'VI004',\n",
       " 'VI0088',\n",
       " 'VI0088',\n",
       " 'VI0088',\n",
       " 'VI0088',\n",
       " 'VI0088',\n",
       " 'VI0088',\n",
       " 'VI0088',\n",
       " 'VI0088',\n",
       " 'VI0088',\n",
       " 'VI0088']"
      ]
     },
     "execution_count": 13,
     "metadata": {},
     "output_type": "execute_result"
    }
   ],
   "source": [
    "target"
   ]
  },
  {
   "cell_type": "code",
   "execution_count": 14,
   "id": "dd3a11a4",
   "metadata": {},
   "outputs": [
    {
     "name": "stdout",
     "output_type": "stream",
     "text": [
      "\n",
      "ACCURACY OF THE MODEL:  1.0\n"
     ]
    }
   ],
   "source": [
    "from sklearn.ensemble import RandomForestClassifier\n",
    "clf = RandomForestClassifier(n_estimators = 100) \n",
    "clf.fit(x_train, y_train)\n",
    "\n",
    "y_pred = clf.predict(x_test)\n",
    "  \n",
    "# metrics are used to find accuracy or error\n",
    "from sklearn import metrics  \n",
    "print()\n",
    "  \n",
    "# using metrics module for accuracy calculation\n",
    "print(\"ACCURACY OF THE MODEL: \", metrics.accuracy_score(y_test, y_pred))"
   ]
  },
  {
   "cell_type": "code",
   "execution_count": 16,
   "id": "a233316d",
   "metadata": {},
   "outputs": [],
   "source": [
    "import pickle\n",
    "filename = 'Web/voterModel.sav'\n",
    "pickle.dump(clf, open(filename, 'wb'))"
   ]
  },
  {
   "cell_type": "code",
   "execution_count": null,
   "id": "a1132120",
   "metadata": {},
   "outputs": [],
   "source": [
    "\n",
    "\n"
   ]
  }
 ],
 "metadata": {
  "kernelspec": {
   "display_name": "Python 3 (ipykernel)",
   "language": "python",
   "name": "python3"
  },
  "language_info": {
   "codemirror_mode": {
    "name": "ipython",
    "version": 3
   },
   "file_extension": ".py",
   "mimetype": "text/x-python",
   "name": "python",
   "nbconvert_exporter": "python",
   "pygments_lexer": "ipython3",
   "version": "3.9.13"
  }
 },
 "nbformat": 4,
 "nbformat_minor": 5
}
